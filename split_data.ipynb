{
 "cells": [
  {
   "cell_type": "code",
   "execution_count": 3,
   "metadata": {},
   "outputs": [],
   "source": [
    "import os\n",
    "import jsonlines\n",
    "from datasets import load_dataset, concatenate_datasets"
   ]
  },
  {
   "cell_type": "code",
   "execution_count": 1,
   "metadata": {},
   "outputs": [
    {
     "name": "stderr",
     "output_type": "stream",
     "text": [
      "c:\\Users\\jojod\\anaconda3\\envs\\DL\\lib\\site-packages\\tqdm\\auto.py:21: TqdmWarning: IProgress not found. Please update jupyter and ipywidgets. See https://ipywidgets.readthedocs.io/en/stable/user_install.html\n",
      "  from .autonotebook import tqdm as notebook_tqdm\n",
      "Filter: 100%|██████████| 13/13 [00:00<00:00, 401.94 examples/s]\n",
      "Filter: 100%|██████████| 13/13 [00:00<00:00, 406.35 examples/s]"
     ]
    },
    {
     "name": "stdout",
     "output_type": "stream",
     "text": [
      "Filtered dataset\n"
     ]
    },
    {
     "name": "stderr",
     "output_type": "stream",
     "text": [
      "\n"
     ]
    }
   ],
   "source": [
    "from datasets import load_dataset\n",
    "\n",
    "dataset_name = 'test'\n",
    "# Load dataset (replace 'dataset_name' with your actual dataset)\n",
    "dataset = load_dataset('json', data_files=f'./data/{dataset_name}.jsonl')\n",
    "#For paraphrased data\n",
    "dataset_tr = dataset.filter(lambda example, idx: idx % 6 == 0 or idx % 6 == 1 or idx % 6 == 2 or idx % 6 == 3, with_indices = True)\n",
    "dataset_te = dataset.filter(lambda example, idx: idx % 6 == 4 or idx % 6 == 5, with_indices = True)\n",
    "#For original data\n",
    "#dataset_tr = dataset.filter(lambda example, idx: idx % 3 == 0 or idx % 3 == 1, with_indices = True)\n",
    "#dataset_te = dataset.filter(lambda example, idx: idx % 3 == 2, with_indices = True)\n",
    "print('Filtered dataset')"
   ]
  },
  {
   "cell_type": "code",
   "execution_count": 4,
   "metadata": {},
   "outputs": [],
   "source": [
    "data_dir = 'data'\n",
    "ori = os.path.join(data_dir, f'./{dataset_name}_test.jsonl')\n",
    "with jsonlines.open(ori, \"w\") as writer:\n",
    "    writer.write_all(dataset_te['train'])\n",
    "ori = os.path.join(data_dir, f'./{dataset_name}_train.jsonl')\n",
    "with jsonlines.open(ori, \"w\") as writer:\n",
    "    writer.write_all(dataset_tr['train'])"
   ]
  },
  {
   "cell_type": "code",
   "execution_count": 18,
   "metadata": {},
   "outputs": [
    {
     "name": "stderr",
     "output_type": "stream",
     "text": [
      "Generating train split: 101814 examples [00:00, 1643462.22 examples/s]\n",
      "Generating train split: 50915 examples [00:00, 1701685.23 examples/s]"
     ]
    },
    {
     "name": "stdout",
     "output_type": "stream",
     "text": [
      "Dataset({\n",
      "    features: ['review', 'label'],\n",
      "    num_rows: 152729\n",
      "})\n"
     ]
    },
    {
     "name": "stderr",
     "output_type": "stream",
     "text": [
      "\n"
     ]
    }
   ],
   "source": [
    "dataset_name = 'paraphrased_data_train'\n",
    "dataset1 = load_dataset('json', data_files=f'./data/{dataset_name}.jsonl')\n",
    "dataset_name = 'original_data_train'\n",
    "dataset2 = load_dataset('json', data_files=f'./data/{dataset_name}.jsonl')\n",
    "\n",
    "full_dataset = concatenate_datasets([dataset1['train'], dataset2['train']])\n",
    "print(full_dataset)"
   ]
  },
  {
   "cell_type": "code",
   "execution_count": 19,
   "metadata": {},
   "outputs": [],
   "source": [
    "data_dir = 'data'\n",
    "dataset_name = 'augmented_data_train'\n",
    "ori = os.path.join(data_dir, f'./{dataset_name}.jsonl')\n",
    "with jsonlines.open(ori, \"w\") as writer:\n",
    "    writer.write_all(full_dataset)"
   ]
  }
 ],
 "metadata": {
  "kernelspec": {
   "display_name": "DL",
   "language": "python",
   "name": "python3"
  },
  "language_info": {
   "codemirror_mode": {
    "name": "ipython",
    "version": 3
   },
   "file_extension": ".py",
   "mimetype": "text/x-python",
   "name": "python",
   "nbconvert_exporter": "python",
   "pygments_lexer": "ipython3",
   "version": "3.9.18"
  }
 },
 "nbformat": 4,
 "nbformat_minor": 2
}
